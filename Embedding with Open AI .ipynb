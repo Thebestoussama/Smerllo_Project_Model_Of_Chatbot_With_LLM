{
 "cells": [
  {
   "cell_type": "code",
   "execution_count": 2,
   "id": "4e514d55",
   "metadata": {},
   "outputs": [],
   "source": [
    "import openai\n",
    "import pandas as pd\n",
    "import numpy as np\n",
    "from sklearn.metrics.pairwise import cosine_similarity"
   ]
  },
  {
   "cell_type": "code",
   "execution_count": 3,
   "id": "b3ff5587",
   "metadata": {},
   "outputs": [],
   "source": [
    "openai.api_key = \"......................................................\""
   ]
  },
  {
   "cell_type": "code",
   "execution_count": 4,
   "id": "0f06592c",
   "metadata": {},
   "outputs": [],
   "source": [
    "df = pd.read_csv('listings_master_data.csv')"
   ]
  },
  {
   "cell_type": "code",
   "execution_count": 5,
   "id": "145a2dd8",
   "metadata": {},
   "outputs": [
    {
     "data": {
      "text/plain": [
       "48120"
      ]
     },
     "execution_count": 5,
     "metadata": {},
     "output_type": "execute_result"
    }
   ],
   "source": [
    "len(df)"
   ]
  },
  {
   "cell_type": "code",
   "execution_count": 17,
   "id": "34e80c13",
   "metadata": {},
   "outputs": [
    {
     "data": {
      "text/html": [
       "<div>\n",
       "<style scoped>\n",
       "    .dataframe tbody tr th:only-of-type {\n",
       "        vertical-align: middle;\n",
       "    }\n",
       "\n",
       "    .dataframe tbody tr th {\n",
       "        vertical-align: top;\n",
       "    }\n",
       "\n",
       "    .dataframe thead th {\n",
       "        text-align: right;\n",
       "    }\n",
       "</style>\n",
       "<table border=\"1\" class=\"dataframe\">\n",
       "  <thead>\n",
       "    <tr style=\"text-align: right;\">\n",
       "      <th></th>\n",
       "      <th>unit_id</th>\n",
       "      <th>@type</th>\n",
       "      <th>name</th>\n",
       "      <th>url</th>\n",
       "      <th>geolatitude</th>\n",
       "      <th>geolongitude</th>\n",
       "      <th>floorSizevalue</th>\n",
       "      <th>floorSizeunitText</th>\n",
       "      <th>numberOfRoomsname</th>\n",
       "      <th>numberOfRoomsvalue</th>\n",
       "      <th>addressaddressCountry</th>\n",
       "      <th>addressaddressRegion</th>\n",
       "      <th>addressaddressLocality</th>\n",
       "      <th>prices</th>\n",
       "      <th>frequency</th>\n",
       "    </tr>\n",
       "  </thead>\n",
       "  <tbody>\n",
       "    <tr>\n",
       "      <th>0</th>\n",
       "      <td>6965011</td>\n",
       "      <td>House</td>\n",
       "      <td>Large Plot | Modern Kitchen | 3 Bedrooms</td>\n",
       "      <td>https://www.bayut.com/property/details-6965011...</td>\n",
       "      <td>25.052004</td>\n",
       "      <td>55.254704</td>\n",
       "      <td>3,324</td>\n",
       "      <td>SQFT</td>\n",
       "      <td>Bedroom(s)</td>\n",
       "      <td>3</td>\n",
       "      <td>UAE</td>\n",
       "      <td>Dubai</td>\n",
       "      <td>Arabian Ranches</td>\n",
       "      <td>320000.0</td>\n",
       "      <td>Yearly</td>\n",
       "    </tr>\n",
       "    <tr>\n",
       "      <th>1</th>\n",
       "      <td>6966601</td>\n",
       "      <td>House</td>\n",
       "      <td>Exclusive | Brand New | Ready to Move In</td>\n",
       "      <td>https://www.bayut.com/property/details-6966601...</td>\n",
       "      <td>24.856453</td>\n",
       "      <td>55.158576</td>\n",
       "      <td>1,512</td>\n",
       "      <td>SQFT</td>\n",
       "      <td>Bedroom(s)</td>\n",
       "      <td>3</td>\n",
       "      <td>UAE</td>\n",
       "      <td>Dubai</td>\n",
       "      <td>Dubai South</td>\n",
       "      <td>90000.0</td>\n",
       "      <td>Yearly</td>\n",
       "    </tr>\n",
       "    <tr>\n",
       "      <th>2</th>\n",
       "      <td>6308837</td>\n",
       "      <td>House</td>\n",
       "      <td>Enjoy Convenient Life w/ This Semi-Corner Unit</td>\n",
       "      <td>https://www.bayut.com/property/details-6308837...</td>\n",
       "      <td>24.391229</td>\n",
       "      <td>54.496525</td>\n",
       "      <td>2,716</td>\n",
       "      <td>SQFT</td>\n",
       "      <td>Bedroom(s)</td>\n",
       "      <td>4</td>\n",
       "      <td>UAE</td>\n",
       "      <td>Abu Dhabi</td>\n",
       "      <td>Abu Dhabi Gate City (Officers City)</td>\n",
       "      <td>180000.0</td>\n",
       "      <td>Yearly</td>\n",
       "    </tr>\n",
       "    <tr>\n",
       "      <th>3</th>\n",
       "      <td>6972016</td>\n",
       "      <td>Apartment</td>\n",
       "      <td>Covered Parking | Balcony | Walk-In Wardrobe</td>\n",
       "      <td>https://www.bayut.com/property/details-6972016...</td>\n",
       "      <td>25.193510</td>\n",
       "      <td>55.277629</td>\n",
       "      <td>1,033</td>\n",
       "      <td>SQFT</td>\n",
       "      <td>Bedroom(s)</td>\n",
       "      <td>1</td>\n",
       "      <td>UAE</td>\n",
       "      <td>Dubai</td>\n",
       "      <td>Downtown Dubai</td>\n",
       "      <td>130000.0</td>\n",
       "      <td>Yearly</td>\n",
       "    </tr>\n",
       "    <tr>\n",
       "      <th>4</th>\n",
       "      <td>6310043</td>\n",
       "      <td>Apartment</td>\n",
       "      <td>Balcony+3B+3B ∫ Near Al Ittihad Park</td>\n",
       "      <td>https://www.bayut.com/property/details-6310043...</td>\n",
       "      <td>25.345889</td>\n",
       "      <td>55.388806</td>\n",
       "      <td>1,400</td>\n",
       "      <td>SQFT</td>\n",
       "      <td>Bedroom(s)</td>\n",
       "      <td>3</td>\n",
       "      <td>UAE</td>\n",
       "      <td>Sharjah</td>\n",
       "      <td>Al Qasimia</td>\n",
       "      <td>30000.0</td>\n",
       "      <td>Yearly</td>\n",
       "    </tr>\n",
       "  </tbody>\n",
       "</table>\n",
       "</div>"
      ],
      "text/plain": [
       "   unit_id      @type                                            name  \\\n",
       "0  6965011      House        Large Plot | Modern Kitchen | 3 Bedrooms   \n",
       "1  6966601      House        Exclusive | Brand New | Ready to Move In   \n",
       "2  6308837      House  Enjoy Convenient Life w/ This Semi-Corner Unit   \n",
       "3  6972016  Apartment    Covered Parking | Balcony | Walk-In Wardrobe   \n",
       "4  6310043  Apartment            Balcony+3B+3B ∫ Near Al Ittihad Park   \n",
       "\n",
       "                                                 url  geolatitude  \\\n",
       "0  https://www.bayut.com/property/details-6965011...    25.052004   \n",
       "1  https://www.bayut.com/property/details-6966601...    24.856453   \n",
       "2  https://www.bayut.com/property/details-6308837...    24.391229   \n",
       "3  https://www.bayut.com/property/details-6972016...    25.193510   \n",
       "4  https://www.bayut.com/property/details-6310043...    25.345889   \n",
       "\n",
       "   geolongitude floorSizevalue floorSizeunitText numberOfRoomsname  \\\n",
       "0     55.254704          3,324              SQFT        Bedroom(s)   \n",
       "1     55.158576          1,512              SQFT        Bedroom(s)   \n",
       "2     54.496525          2,716              SQFT        Bedroom(s)   \n",
       "3     55.277629          1,033              SQFT        Bedroom(s)   \n",
       "4     55.388806          1,400              SQFT        Bedroom(s)   \n",
       "\n",
       "   numberOfRoomsvalue addressaddressCountry addressaddressRegion  \\\n",
       "0                   3                   UAE                Dubai   \n",
       "1                   3                   UAE                Dubai   \n",
       "2                   4                   UAE            Abu Dhabi   \n",
       "3                   1                   UAE                Dubai   \n",
       "4                   3                   UAE              Sharjah   \n",
       "\n",
       "                addressaddressLocality    prices frequency  \n",
       "0                      Arabian Ranches  320000.0    Yearly  \n",
       "1                          Dubai South   90000.0    Yearly  \n",
       "2  Abu Dhabi Gate City (Officers City)  180000.0    Yearly  \n",
       "3                       Downtown Dubai  130000.0    Yearly  \n",
       "4                           Al Qasimia   30000.0    Yearly  "
      ]
     },
     "execution_count": 17,
     "metadata": {},
     "output_type": "execute_result"
    }
   ],
   "source": [
    "df.head()"
   ]
  },
  {
   "cell_type": "code",
   "execution_count": 18,
   "id": "f2c9fb44",
   "metadata": {},
   "outputs": [
    {
     "data": {
      "text/plain": [
       "Index(['unit_id', '@type', 'name', 'url', 'geolatitude', 'geolongitude',\n",
       "       'floorSizevalue', 'floorSizeunitText', 'numberOfRoomsname',\n",
       "       'numberOfRoomsvalue', 'addressaddressCountry', 'addressaddressRegion',\n",
       "       'addressaddressLocality', 'prices', 'frequency'],\n",
       "      dtype='object')"
      ]
     },
     "execution_count": 18,
     "metadata": {},
     "output_type": "execute_result"
    }
   ],
   "source": [
    "df.columns"
   ]
  },
  {
   "cell_type": "code",
   "execution_count": 14,
   "id": "8a78c5a3",
   "metadata": {},
   "outputs": [
    {
     "data": {
      "text/plain": [
       "15"
      ]
     },
     "execution_count": 14,
     "metadata": {},
     "output_type": "execute_result"
    }
   ],
   "source": [
    "len(df.columns)"
   ]
  },
  {
   "cell_type": "code",
   "execution_count": 7,
   "id": "82848129",
   "metadata": {},
   "outputs": [
    {
     "data": {
      "text/plain": [
       "array(['Dubai', 'Abu Dhabi', 'Sharjah', 'Ajman', 'Ras Al Khaimah',\n",
       "       'Al Ain', 'Umm Al Quwain', 'Al Napoca', 'Fujairah'], dtype=object)"
      ]
     },
     "execution_count": 7,
     "metadata": {},
     "output_type": "execute_result"
    }
   ],
   "source": [
    "df[\"addressaddressRegion\"].unique()"
   ]
  },
  {
   "cell_type": "code",
   "execution_count": 13,
   "id": "8372431e",
   "metadata": {},
   "outputs": [
    {
     "data": {
      "text/html": [
       "<div>\n",
       "<style scoped>\n",
       "    .dataframe tbody tr th:only-of-type {\n",
       "        vertical-align: middle;\n",
       "    }\n",
       "\n",
       "    .dataframe tbody tr th {\n",
       "        vertical-align: top;\n",
       "    }\n",
       "\n",
       "    .dataframe thead th {\n",
       "        text-align: right;\n",
       "    }\n",
       "</style>\n",
       "<table border=\"1\" class=\"dataframe\">\n",
       "  <thead>\n",
       "    <tr style=\"text-align: right;\">\n",
       "      <th></th>\n",
       "      <th>region</th>\n",
       "      <th>number of places</th>\n",
       "    </tr>\n",
       "  </thead>\n",
       "  <tbody>\n",
       "    <tr>\n",
       "      <th>0</th>\n",
       "      <td>Dubai</td>\n",
       "      <td>115</td>\n",
       "    </tr>\n",
       "    <tr>\n",
       "      <th>1</th>\n",
       "      <td>Abu Dhabi</td>\n",
       "      <td>80</td>\n",
       "    </tr>\n",
       "    <tr>\n",
       "      <th>2</th>\n",
       "      <td>Sharjah</td>\n",
       "      <td>83</td>\n",
       "    </tr>\n",
       "    <tr>\n",
       "      <th>3</th>\n",
       "      <td>Ajman</td>\n",
       "      <td>30</td>\n",
       "    </tr>\n",
       "    <tr>\n",
       "      <th>4</th>\n",
       "      <td>Ras Al Khaimah</td>\n",
       "      <td>27</td>\n",
       "    </tr>\n",
       "    <tr>\n",
       "      <th>5</th>\n",
       "      <td>Al Ain</td>\n",
       "      <td>38</td>\n",
       "    </tr>\n",
       "    <tr>\n",
       "      <th>6</th>\n",
       "      <td>Umm Al Quwain</td>\n",
       "      <td>7</td>\n",
       "    </tr>\n",
       "    <tr>\n",
       "      <th>7</th>\n",
       "      <td>Al Napoca</td>\n",
       "      <td>1</td>\n",
       "    </tr>\n",
       "    <tr>\n",
       "      <th>8</th>\n",
       "      <td>Fujairah</td>\n",
       "      <td>7</td>\n",
       "    </tr>\n",
       "  </tbody>\n",
       "</table>\n",
       "</div>"
      ],
      "text/plain": [
       "           region  number of places\n",
       "0           Dubai               115\n",
       "1       Abu Dhabi                80\n",
       "2         Sharjah                83\n",
       "3           Ajman                30\n",
       "4  Ras Al Khaimah                27\n",
       "5          Al Ain                38\n",
       "6   Umm Al Quwain                 7\n",
       "7       Al Napoca                 1\n",
       "8        Fujairah                 7"
      ]
     },
     "execution_count": 13,
     "metadata": {},
     "output_type": "execute_result"
    }
   ],
   "source": [
    "dic = {'region' : [], \n",
    "      \"number of places\" : []}\n",
    "for region in df[\"addressaddressRegion\"].unique() :\n",
    "    dic['region'].append(region)\n",
    "    oussama = df[df[\"addressaddressRegion\"] == region][\"addressaddressLocality\"].unique()\n",
    "    dic['number of places'].append(len(oussama))\n",
    "dic = pd.DataFrame(dic)\n",
    "dic"
   ]
  },
  {
   "cell_type": "code",
   "execution_count": 4,
   "id": "a807c41d",
   "metadata": {},
   "outputs": [],
   "source": [
    "df = df.sample(1000 , random_state = 42)"
   ]
  },
  {
   "cell_type": "code",
   "execution_count": 5,
   "id": "b87a9afc",
   "metadata": {},
   "outputs": [
    {
     "data": {
      "text/html": [
       "<div>\n",
       "<style scoped>\n",
       "    .dataframe tbody tr th:only-of-type {\n",
       "        vertical-align: middle;\n",
       "    }\n",
       "\n",
       "    .dataframe tbody tr th {\n",
       "        vertical-align: top;\n",
       "    }\n",
       "\n",
       "    .dataframe thead th {\n",
       "        text-align: right;\n",
       "    }\n",
       "</style>\n",
       "<table border=\"1\" class=\"dataframe\">\n",
       "  <thead>\n",
       "    <tr style=\"text-align: right;\">\n",
       "      <th></th>\n",
       "      <th>unit_id</th>\n",
       "      <th>@type</th>\n",
       "      <th>name</th>\n",
       "      <th>url</th>\n",
       "      <th>geolatitude</th>\n",
       "      <th>geolongitude</th>\n",
       "      <th>floorSizevalue</th>\n",
       "      <th>floorSizeunitText</th>\n",
       "      <th>numberOfRoomsname</th>\n",
       "      <th>numberOfRoomsvalue</th>\n",
       "      <th>addressaddressCountry</th>\n",
       "      <th>addressaddressRegion</th>\n",
       "      <th>addressaddressLocality</th>\n",
       "      <th>prices</th>\n",
       "      <th>frequency</th>\n",
       "    </tr>\n",
       "  </thead>\n",
       "  <tbody>\n",
       "    <tr>\n",
       "      <th>24632</th>\n",
       "      <td>6878572</td>\n",
       "      <td>Residence</td>\n",
       "      <td>2 BHK Amazing Townhouse |  Sea View| Bermuda</td>\n",
       "      <td>https://www.bayut.com/property/details-6878572...</td>\n",
       "      <td>25.718389</td>\n",
       "      <td>55.829181</td>\n",
       "      <td>2,184</td>\n",
       "      <td>SQFT</td>\n",
       "      <td>Bedroom(s)</td>\n",
       "      <td>2</td>\n",
       "      <td>UAE</td>\n",
       "      <td>Ras Al Khaimah</td>\n",
       "      <td>Mina Al Arab</td>\n",
       "      <td>90000.0</td>\n",
       "      <td>Yearly</td>\n",
       "    </tr>\n",
       "    <tr>\n",
       "      <th>36428</th>\n",
       "      <td>6934325</td>\n",
       "      <td>Apartment</td>\n",
       "      <td>BRAND NEW !! FIRST TENANT 2BHK NEAR KHALIFA UN...</td>\n",
       "      <td>https://www.bayut.com/property/details-6934325...</td>\n",
       "      <td>24.446993</td>\n",
       "      <td>54.385729</td>\n",
       "      <td>1,400</td>\n",
       "      <td>SQFT</td>\n",
       "      <td>Bedroom(s)</td>\n",
       "      <td>2</td>\n",
       "      <td>UAE</td>\n",
       "      <td>Abu Dhabi</td>\n",
       "      <td>Al Mushrif</td>\n",
       "      <td>51999.0</td>\n",
       "      <td>Yearly</td>\n",
       "    </tr>\n",
       "    <tr>\n",
       "      <th>42150</th>\n",
       "      <td>6853128</td>\n",
       "      <td>Apartment</td>\n",
       "      <td>Ready to Move in | Well Maintained | En-suite ...</td>\n",
       "      <td>https://www.bayut.com/property/details-6853128...</td>\n",
       "      <td>25.193889</td>\n",
       "      <td>55.263788</td>\n",
       "      <td>1,415</td>\n",
       "      <td>SQFT</td>\n",
       "      <td>Bedroom(s)</td>\n",
       "      <td>2</td>\n",
       "      <td>UAE</td>\n",
       "      <td>Dubai</td>\n",
       "      <td>Business Bay</td>\n",
       "      <td>139999.0</td>\n",
       "      <td>Yearly</td>\n",
       "    </tr>\n",
       "    <tr>\n",
       "      <th>23885</th>\n",
       "      <td>6948948</td>\n",
       "      <td>House</td>\n",
       "      <td>4 CHQS | Move in Ready | Double Row</td>\n",
       "      <td>https://www.bayut.com/property/details-6948948...</td>\n",
       "      <td>24.457580</td>\n",
       "      <td>54.675561</td>\n",
       "      <td>2,858</td>\n",
       "      <td>SQFT</td>\n",
       "      <td>Bedroom(s)</td>\n",
       "      <td>4</td>\n",
       "      <td>UAE</td>\n",
       "      <td>Abu Dhabi</td>\n",
       "      <td>Al Reef</td>\n",
       "      <td>140000.0</td>\n",
       "      <td>Yearly</td>\n",
       "    </tr>\n",
       "    <tr>\n",
       "      <th>2174</th>\n",
       "      <td>6665596</td>\n",
       "      <td>House</td>\n",
       "      <td>Luxury | Elegant Furniture| Brand New | Spacious</td>\n",
       "      <td>https://www.bayut.com/property/details-6665596...</td>\n",
       "      <td>25.178825</td>\n",
       "      <td>55.574569</td>\n",
       "      <td>6,800</td>\n",
       "      <td>SQFT</td>\n",
       "      <td>Bedroom(s)</td>\n",
       "      <td>5</td>\n",
       "      <td>UAE</td>\n",
       "      <td>Dubai</td>\n",
       "      <td>Al Awir</td>\n",
       "      <td>199999.0</td>\n",
       "      <td>Yearly</td>\n",
       "    </tr>\n",
       "  </tbody>\n",
       "</table>\n",
       "</div>"
      ],
      "text/plain": [
       "       unit_id      @type                                               name  \\\n",
       "24632  6878572  Residence       2 BHK Amazing Townhouse |  Sea View| Bermuda   \n",
       "36428  6934325  Apartment  BRAND NEW !! FIRST TENANT 2BHK NEAR KHALIFA UN...   \n",
       "42150  6853128  Apartment  Ready to Move in | Well Maintained | En-suite ...   \n",
       "23885  6948948      House                4 CHQS | Move in Ready | Double Row   \n",
       "2174   6665596      House   Luxury | Elegant Furniture| Brand New | Spacious   \n",
       "\n",
       "                                                     url  geolatitude  \\\n",
       "24632  https://www.bayut.com/property/details-6878572...    25.718389   \n",
       "36428  https://www.bayut.com/property/details-6934325...    24.446993   \n",
       "42150  https://www.bayut.com/property/details-6853128...    25.193889   \n",
       "23885  https://www.bayut.com/property/details-6948948...    24.457580   \n",
       "2174   https://www.bayut.com/property/details-6665596...    25.178825   \n",
       "\n",
       "       geolongitude floorSizevalue floorSizeunitText numberOfRoomsname  \\\n",
       "24632     55.829181          2,184              SQFT        Bedroom(s)   \n",
       "36428     54.385729          1,400              SQFT        Bedroom(s)   \n",
       "42150     55.263788          1,415              SQFT        Bedroom(s)   \n",
       "23885     54.675561          2,858              SQFT        Bedroom(s)   \n",
       "2174      55.574569          6,800              SQFT        Bedroom(s)   \n",
       "\n",
       "       numberOfRoomsvalue addressaddressCountry addressaddressRegion  \\\n",
       "24632                   2                   UAE       Ras Al Khaimah   \n",
       "36428                   2                   UAE            Abu Dhabi   \n",
       "42150                   2                   UAE                Dubai   \n",
       "23885                   4                   UAE            Abu Dhabi   \n",
       "2174                    5                   UAE                Dubai   \n",
       "\n",
       "      addressaddressLocality    prices frequency  \n",
       "24632           Mina Al Arab   90000.0    Yearly  \n",
       "36428             Al Mushrif   51999.0    Yearly  \n",
       "42150           Business Bay  139999.0    Yearly  \n",
       "23885                Al Reef  140000.0    Yearly  \n",
       "2174                 Al Awir  199999.0    Yearly  "
      ]
     },
     "execution_count": 5,
     "metadata": {},
     "output_type": "execute_result"
    }
   ],
   "source": [
    "df.head()"
   ]
  },
  {
   "cell_type": "markdown",
   "id": "790d7168",
   "metadata": {},
   "source": [
    "# Start preparing text _ embedding Data"
   ]
  },
  {
   "cell_type": "code",
   "execution_count": 50,
   "id": "7ac8db0e",
   "metadata": {},
   "outputs": [],
   "source": [
    "def text_column(data_frame, n) :\n",
    "    \n",
    "    col_text = {'text' : [] }\n",
    "    \n",
    "    rate = 0.1*len(data_frame) # 10% pourcent of data = 100\n",
    "    \n",
    "    for index in range(0 + int( rate )*n , int( rate )*(n+1) ) :\n",
    "        query = f'take this ligne of data frame that content 15 information and transform it into a understanding information for our client, please try to create this in one paragraphe: this is the ligne of data {data_frame.iloc[index]} '\n",
    "        response_text = openai.ChatCompletion.create(\n",
    "        messages=[{'role': 'system', 'content': ''},{'role': 'user', 'content': query}],model='gpt-3.5-turbo',\n",
    "            temperature=0 ,  request_timeout=120000)\n",
    "        message = response_text['choices'][0]['message']['content']\n",
    "        col_text['text'].append(message)\n",
    "        \n",
    "    return pd.DataFrame(col_text)\n",
    "\n"
   ]
  },
  {
   "cell_type": "code",
   "execution_count": 23,
   "id": "9267aa32",
   "metadata": {},
   "outputs": [
    {
     "data": {
      "text/plain": [
       "9.0"
      ]
     },
     "execution_count": 23,
     "metadata": {},
     "output_type": "execute_result"
    }
   ],
   "source": [
    "n  = (len(df)/int(len(df)*0.1)) - 1\n",
    "n"
   ]
  },
  {
   "cell_type": "code",
   "execution_count": 47,
   "id": "4419ec7f",
   "metadata": {},
   "outputs": [],
   "source": [
    "text_column_1 = text_column(data_frame = df , n = 0)"
   ]
  },
  {
   "cell_type": "code",
   "execution_count": 51,
   "id": "cccf4d3d",
   "metadata": {},
   "outputs": [],
   "source": [
    "text_column_2 = text_column(data_frame = df , n = 1)"
   ]
  },
  {
   "cell_type": "code",
   "execution_count": 53,
   "id": "84a8f9fd",
   "metadata": {},
   "outputs": [],
   "source": [
    "text_column_3 = text_column(data_frame = df , n = 2)"
   ]
  },
  {
   "cell_type": "code",
   "execution_count": 55,
   "id": "6292089d",
   "metadata": {},
   "outputs": [],
   "source": [
    "text_column_4 = text_column(data_frame = df , n = 3)"
   ]
  },
  {
   "cell_type": "code",
   "execution_count": 57,
   "id": "4f96c57a",
   "metadata": {},
   "outputs": [],
   "source": [
    "text_column_5 = text_column(data_frame = df , n = 4)"
   ]
  },
  {
   "cell_type": "code",
   "execution_count": 59,
   "id": "fd35df70",
   "metadata": {},
   "outputs": [],
   "source": [
    "text_column_6 = text_column(data_frame = df , n = 5)"
   ]
  },
  {
   "cell_type": "code",
   "execution_count": 61,
   "id": "e4245f62",
   "metadata": {},
   "outputs": [],
   "source": [
    "text_column_7 = text_column(data_frame = df , n = 6)"
   ]
  },
  {
   "cell_type": "code",
   "execution_count": 63,
   "id": "d7f6bd8f",
   "metadata": {},
   "outputs": [],
   "source": [
    "text_column_8 = text_column(data_frame = df , n = 7)"
   ]
  },
  {
   "cell_type": "code",
   "execution_count": 65,
   "id": "fd045c44",
   "metadata": {},
   "outputs": [],
   "source": [
    "text_column_9 = text_column(data_frame = df , n = 8)"
   ]
  },
  {
   "cell_type": "code",
   "execution_count": 67,
   "id": "2565ee8b",
   "metadata": {},
   "outputs": [],
   "source": [
    "text_column_10 = text_column(data_frame = df , n = 9)"
   ]
  },
  {
   "cell_type": "code",
   "execution_count": 71,
   "id": "f3f63eeb",
   "metadata": {},
   "outputs": [],
   "source": [
    "def embedding_text(row):\n",
    "    \n",
    "    response = openai.Embedding.create(input = row['text']  ,  model = \"text-embedding-ada-002\")\n",
    "    embed = response['data'][0]['embedding']\n",
    "    \n",
    "    return embed\n",
    "        "
   ]
  },
  {
   "cell_type": "code",
   "execution_count": 72,
   "id": "8131781d",
   "metadata": {},
   "outputs": [],
   "source": [
    "def embedding_column(data_frame):\n",
    "    \n",
    "    data_frame['embedding'] = data_frame.apply(embedding_text , axis = 1)\n",
    "    \n",
    "    return data_frame"
   ]
  },
  {
   "cell_type": "code",
   "execution_count": 73,
   "id": "d7a5387c",
   "metadata": {},
   "outputs": [],
   "source": [
    "embedding_column_1 = embedding_column(text_column_1)"
   ]
  },
  {
   "cell_type": "code",
   "execution_count": 75,
   "id": "bfb82007",
   "metadata": {},
   "outputs": [],
   "source": [
    "embedding_text_1 = embedding_column_1"
   ]
  },
  {
   "cell_type": "code",
   "execution_count": 77,
   "id": "b0346481",
   "metadata": {},
   "outputs": [],
   "source": [
    "embedding_text_2 = embedding_column(text_column_2)"
   ]
  },
  {
   "cell_type": "code",
   "execution_count": 79,
   "id": "3f7aa83c",
   "metadata": {},
   "outputs": [],
   "source": [
    "embedding_text_3 = embedding_column(text_column_3)"
   ]
  },
  {
   "cell_type": "code",
   "execution_count": 80,
   "id": "08d1cde0",
   "metadata": {},
   "outputs": [],
   "source": [
    "embedding_text_4 = embedding_column(text_column_4)"
   ]
  },
  {
   "cell_type": "code",
   "execution_count": 81,
   "id": "d414df6a",
   "metadata": {},
   "outputs": [],
   "source": [
    "embedding_text_5 = embedding_column(text_column_5)"
   ]
  },
  {
   "cell_type": "code",
   "execution_count": 82,
   "id": "898bac3c",
   "metadata": {},
   "outputs": [],
   "source": [
    "embedding_text_6 = embedding_column(text_column_6)"
   ]
  },
  {
   "cell_type": "code",
   "execution_count": 83,
   "id": "64118aa1",
   "metadata": {},
   "outputs": [],
   "source": [
    "embedding_text_7 = embedding_column(text_column_7)"
   ]
  },
  {
   "cell_type": "code",
   "execution_count": 84,
   "id": "374c90c4",
   "metadata": {},
   "outputs": [],
   "source": [
    "embedding_text_8 = embedding_column(text_column_8)"
   ]
  },
  {
   "cell_type": "code",
   "execution_count": 85,
   "id": "bfcb5370",
   "metadata": {},
   "outputs": [],
   "source": [
    "embedding_text_9 = embedding_column(text_column_9)"
   ]
  },
  {
   "cell_type": "code",
   "execution_count": 86,
   "id": "aa811c3c",
   "metadata": {},
   "outputs": [],
   "source": [
    "embedding_text_10 = embedding_column(text_column_10)"
   ]
  },
  {
   "cell_type": "code",
   "execution_count": 336,
   "id": "aa5358dd",
   "metadata": {},
   "outputs": [],
   "source": [
    "df = pd.concat([embedding_text_1,embedding_text_2,embedding_text_3,embedding_text_4,embedding_text_5,\n",
    "                embedding_text_6,embedding_text_7,embedding_text_8,embedding_text_9,embedding_text_10] , ignore_index=True )"
   ]
  },
  {
   "cell_type": "markdown",
   "id": "03a1ced8",
   "metadata": {},
   "source": [
    "# Final Data"
   ]
  },
  {
   "cell_type": "code",
   "execution_count": 346,
   "id": "95f2fe2f",
   "metadata": {},
   "outputs": [
    {
     "data": {
      "text/html": [
       "<div>\n",
       "<style scoped>\n",
       "    .dataframe tbody tr th:only-of-type {\n",
       "        vertical-align: middle;\n",
       "    }\n",
       "\n",
       "    .dataframe tbody tr th {\n",
       "        vertical-align: top;\n",
       "    }\n",
       "\n",
       "    .dataframe thead th {\n",
       "        text-align: right;\n",
       "    }\n",
       "</style>\n",
       "<table border=\"1\" class=\"dataframe\">\n",
       "  <thead>\n",
       "    <tr style=\"text-align: right;\">\n",
       "      <th></th>\n",
       "      <th>text</th>\n",
       "      <th>embedding</th>\n",
       "    </tr>\n",
       "  </thead>\n",
       "  <tbody>\n",
       "    <tr>\n",
       "      <th>0</th>\n",
       "      <td>We have a residence property available for our...</td>\n",
       "      <td>[0.0124435443431139, 0.006698851473629475, -0....</td>\n",
       "    </tr>\n",
       "    <tr>\n",
       "      <th>1</th>\n",
       "      <td>We have a brand new 2-bedroom apartment availa...</td>\n",
       "      <td>[0.02008100226521492, 0.005562980193644762, -0...</td>\n",
       "    </tr>\n",
       "    <tr>\n",
       "      <th>2</th>\n",
       "      <td>We have a ready-to-move-in apartment located i...</td>\n",
       "      <td>[0.013784174807369709, -0.00345245492644608, -...</td>\n",
       "    </tr>\n",
       "    <tr>\n",
       "      <th>3</th>\n",
       "      <td>This data represents a house located in Al Ree...</td>\n",
       "      <td>[0.010833458974957466, 0.01742301508784294, -0...</td>\n",
       "    </tr>\n",
       "    <tr>\n",
       "      <th>4</th>\n",
       "      <td>We have a luxurious and elegant house with bra...</td>\n",
       "      <td>[0.008466669358313084, 0.02172725275158882, -0...</td>\n",
       "    </tr>\n",
       "    <tr>\n",
       "      <th>...</th>\n",
       "      <td>...</td>\n",
       "      <td>...</td>\n",
       "    </tr>\n",
       "    <tr>\n",
       "      <th>995</th>\n",
       "      <td>We have a vacant 2-bedroom apartment with a co...</td>\n",
       "      <td>[0.010188404470682144, 0.0012790912296622992, ...</td>\n",
       "    </tr>\n",
       "    <tr>\n",
       "      <th>996</th>\n",
       "      <td>We have a two-bedroom apartment available for ...</td>\n",
       "      <td>[0.020755285397171974, 0.012024989351630211, -...</td>\n",
       "    </tr>\n",
       "    <tr>\n",
       "      <th>997</th>\n",
       "      <td>We have a very well-maintained apartment with ...</td>\n",
       "      <td>[0.02788640558719635, 0.0090120704844594, -0.0...</td>\n",
       "    </tr>\n",
       "    <tr>\n",
       "      <th>998</th>\n",
       "      <td>We have a very spacious and luxury 3bhk villa ...</td>\n",
       "      <td>[0.014151254668831825, 0.00045599567238241434,...</td>\n",
       "    </tr>\n",
       "    <tr>\n",
       "      <th>999</th>\n",
       "      <td>We have a 5-bedroom plus maid's villa with a p...</td>\n",
       "      <td>[0.015367810614407063, -0.003215023083612323, ...</td>\n",
       "    </tr>\n",
       "  </tbody>\n",
       "</table>\n",
       "<p>1000 rows × 2 columns</p>\n",
       "</div>"
      ],
      "text/plain": [
       "                                                  text  \\\n",
       "0    We have a residence property available for our...   \n",
       "1    We have a brand new 2-bedroom apartment availa...   \n",
       "2    We have a ready-to-move-in apartment located i...   \n",
       "3    This data represents a house located in Al Ree...   \n",
       "4    We have a luxurious and elegant house with bra...   \n",
       "..                                                 ...   \n",
       "995  We have a vacant 2-bedroom apartment with a co...   \n",
       "996  We have a two-bedroom apartment available for ...   \n",
       "997  We have a very well-maintained apartment with ...   \n",
       "998  We have a very spacious and luxury 3bhk villa ...   \n",
       "999  We have a 5-bedroom plus maid's villa with a p...   \n",
       "\n",
       "                                             embedding  \n",
       "0    [0.0124435443431139, 0.006698851473629475, -0....  \n",
       "1    [0.02008100226521492, 0.005562980193644762, -0...  \n",
       "2    [0.013784174807369709, -0.00345245492644608, -...  \n",
       "3    [0.010833458974957466, 0.01742301508784294, -0...  \n",
       "4    [0.008466669358313084, 0.02172725275158882, -0...  \n",
       "..                                                 ...  \n",
       "995  [0.010188404470682144, 0.0012790912296622992, ...  \n",
       "996  [0.020755285397171974, 0.012024989351630211, -...  \n",
       "997  [0.02788640558719635, 0.0090120704844594, -0.0...  \n",
       "998  [0.014151254668831825, 0.00045599567238241434,...  \n",
       "999  [0.015367810614407063, -0.003215023083612323, ...  \n",
       "\n",
       "[1000 rows x 2 columns]"
      ]
     },
     "execution_count": 346,
     "metadata": {},
     "output_type": "execute_result"
    }
   ],
   "source": [
    "df.head(1000)"
   ]
  },
  {
   "cell_type": "code",
   "execution_count": 339,
   "id": "6b28aee8",
   "metadata": {},
   "outputs": [],
   "source": [
    "df_apply = df.copy()"
   ]
  },
  {
   "cell_type": "markdown",
   "id": "0141c3c7",
   "metadata": {},
   "source": [
    "# Chatbot Model"
   ]
  },
  {
   "cell_type": "code",
   "execution_count": 362,
   "id": "d9e1155f",
   "metadata": {},
   "outputs": [],
   "source": [
    "def calcul_similarity(query , row) :\n",
    "    \n",
    "    response = openai.Embedding.create(input = query  ,  model = \"text-embedding-ada-002\")\n",
    "    embed_query = response['data'][0]['embedding']\n",
    "    \n",
    "    vector1 = np.array(row['embedding'])\n",
    "    vector2 = np.array(embed_query)\n",
    "    similarity_score = cosine_similarity([vector1], [vector2])[0][0]\n",
    "    \n",
    "    return similarity_score\n",
    "\n",
    "\n",
    "def similarity_column(query): #create a column that content similarities between the vector of text and vector of query\n",
    "    \n",
    "    df['similarity'] = df.apply(lambda row : calcul_similarity(query , row) , axis = 1)\n",
    "    \n",
    "    return df\n",
    "\n",
    "\n",
    "def best_answers(query , row , Temperature): #Temperature determine the degree of the variance from his query for which the client desire to generate his response his shortlist\n",
    "                                             #high Temperature implied multiple choice answer low Temperature implied a restreint shortlist (look up for more accuracy compared to the query) \n",
    "    docs = []\n",
    "    data_frame = similarity_column(query)\n",
    "    M = max(data_frame['similarity'].unique()) \n",
    "    m = min(data_frame['similarity'].unique())\n",
    "    rate = 1 - Temperature\n",
    "    P = rate*(M-m)                      Thr = m + (1 - Temperature)*(M-m)\n",
    "    Thr = m + P  #threshold \n",
    "    \n",
    "    for index , row in data_frame.iterrows() :\n",
    "        if Thr <= row['similarity'] <= M : #tolerance interval\n",
    "            docs.append(row['text'])\n",
    "        \n",
    "    return docs #content the best responses respecting this accuracy and this tolerance interval \n",
    "[]\n",
    "\n",
    "def ask(query , Temperature) :\n",
    "    \n",
    "    if 0 <= Temperature <= 1 :\n",
    "        \n",
    "        message = best_answers(query , row , Temperature)\n",
    "        \n",
    "        \n",
    "        return message\n",
    "    \n",
    "    else :\n",
    "        print('KeyError : Temperature is a float number between 0 and 1 (0 <= Temperature <= 1 )')\n",
    "        \n",
    "        \n",
    "    \n",
    "\n",
    "    \n",
    "        \n",
    "    \n",
    "\n"
   ]
  },
  {
   "cell_type": "code",
   "execution_count": 363,
   "id": "9642c68e",
   "metadata": {},
   "outputs": [
    {
     "data": {
      "text/plain": [
       "['We have a great apartment available for our client with the following details: It has 3 bedrooms, a maid room, and great facilities. The apartment is located on Electra Street in Abu Dhabi, UAE. The floor size is 2,000 square feet. The price for this apartment is 124,995 AED per year. You can find more information and pictures on our website: [link to the property](https://www.bayut.com/property/details-6914752...).',\n",
       " \"We have a brand new apartment located in Al Reem Island, Abu Dhabi, UAE. This apartment has 3 bedrooms and a maid's room, with a total floor size of 1,705 square feet. The rental price for this apartment is AED 110,000 per year. You can find more details and contact information on the property listing page: [link](https://www.bayut.com/property/details-6951936...).\",\n",
       " 'We have a great apartment available for our client. It is located close to the Corniche in Abu Dhabi, UAE. The apartment has 3 bedrooms and a balcony, making it a comfortable living space. The total floor size is 1,850 square feet. The rental price for this apartment is 79,200 AED per year. If you are interested, you can find more details and photos on our website: [link to the property](https://www.bayut.com/property/details-6882523...).',\n",
       " 'We have a luxurious apartment located in Al Khalidiyah, Abu Dhabi, UAE. The apartment has 3 master bedrooms and a total floor size of 2,400 square feet. It is situated in a prime location with a geolatitude of 24.469494 and geolongitude of 54.348063. The apartment is available for rent at a price of 85,000 AED per year. You can find more details and images of the apartment on the following link: [LUXARIOUS APARTMENT_3MASTER ROOM_CORNICHE](https://www.bayut.com/property/details-6886283...)',\n",
       " \"We have a clean and spacious apartment located on Corniche Road in Abu Dhabi, UAE. This apartment has 3 bedrooms and a maid's room, making it perfect for families or individuals looking for extra space. The total floor size is 2,140 square feet. The apartment is available for rent at a price of 85,000 AED per year. You can find more details and photos of the apartment on the following link: [Apartment Details](https://www.bayut.com/property/details-6833106).\",\n",
       " \"This data represents an apartment with the following details: unit ID 5490365, located in Abu Dhabi, UAE, specifically in Al Markaziya. The apartment has 3 bedrooms and a floor size of 1,521 square feet. It is available for rent at a price of 80,000 AED per year, with a payment frequency of yearly. The apartment is listed without any agency fee and can be rented directly from the owner. For more information, you can visit the property's webpage at https://www.bayut.com/property/details-5490365.\",\n",
       " 'We have a brand new apartment available for rent in Abu Dhabi, UAE. This glamorous 3-bedroom apartment is located on Sheikh Khalifa Bin Zayed Street. With a floor size of 1,750 square feet, it offers spacious living areas. The apartment is listed at a rental price of 130,000 AED per year. You can find more details and photos of the property on the following link: [link to property](https://www.bayut.com/property/details-6899361...).']"
      ]
     },
     "execution_count": 363,
     "metadata": {},
     "output_type": "execute_result"
    }
   ],
   "source": [
    "ask('look up for an apartment in Abu Dhabi UAE region which number of bedrooms between 3 and 5' , 0.1)\n"
   ]
  }
 ],
 "metadata": {
  "kernelspec": {
   "display_name": "Python 3 (ipykernel)",
   "language": "python",
   "name": "python3"
  },
  "language_info": {
   "codemirror_mode": {
    "name": "ipython",
    "version": 3
   },
   "file_extension": ".py",
   "mimetype": "text/x-python",
   "name": "python",
   "nbconvert_exporter": "python",
   "pygments_lexer": "ipython3",
   "version": "3.9.12"
  }
 },
 "nbformat": 4,
 "nbformat_minor": 5
}
